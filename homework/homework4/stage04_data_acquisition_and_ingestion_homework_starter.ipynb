{
  "cells": [
    {
      "cell_type": "markdown",
      "id": "P7fuPrNPAhFJ",
      "metadata": {
        "id": "P7fuPrNPAhFJ"
      },
      "source": [
        "# Homework Starter — Stage 04: Data Acquisition and Ingestion\n",
        "Name:\n",
        "Date:\n",
        "\n",
        "## Objectives\n",
        "- API ingestion with secrets in `.env`\n",
        "- Scrape a permitted public table\n",
        "- Validate and save raw data to `data/raw/`"
      ]
    },
    {
      "cell_type": "code",
      "execution_count": 1,
      "id": "ZtHgVUGvAhFL",
      "metadata": {
        "id": "ZtHgVUGvAhFL"
      },
      "outputs": [
        {
          "ename": "ModuleNotFoundError",
          "evalue": "No module named 'bs4'",
          "output_type": "error",
          "traceback": [
            "\u001b[1;31m---------------------------------------------------------------------------\u001b[0m",
            "\u001b[1;31mModuleNotFoundError\u001b[0m                       Traceback (most recent call last)",
            "Cell \u001b[1;32mIn[1], line 4\u001b[0m\n\u001b[0;32m      2\u001b[0m \u001b[38;5;28;01mimport\u001b[39;00m \u001b[38;5;21;01mrequests\u001b[39;00m\n\u001b[0;32m      3\u001b[0m \u001b[38;5;28;01mimport\u001b[39;00m \u001b[38;5;21;01mpandas\u001b[39;00m \u001b[38;5;28;01mas\u001b[39;00m \u001b[38;5;21;01mpd\u001b[39;00m\n\u001b[1;32m----> 4\u001b[0m \u001b[38;5;28;01mfrom\u001b[39;00m \u001b[38;5;21;01mbs4\u001b[39;00m \u001b[38;5;28;01mimport\u001b[39;00m BeautifulSoup\n\u001b[0;32m      5\u001b[0m \u001b[38;5;28;01mfrom\u001b[39;00m \u001b[38;5;21;01mdotenv\u001b[39;00m \u001b[38;5;28;01mimport\u001b[39;00m load_dotenv\n\u001b[0;32m      7\u001b[0m RAW \u001b[38;5;241m=\u001b[39m pathlib\u001b[38;5;241m.\u001b[39mPath(\u001b[38;5;124m'\u001b[39m\u001b[38;5;124mdata/raw\u001b[39m\u001b[38;5;124m'\u001b[39m); RAW\u001b[38;5;241m.\u001b[39mmkdir(parents\u001b[38;5;241m=\u001b[39m\u001b[38;5;28;01mTrue\u001b[39;00m, exist_ok\u001b[38;5;241m=\u001b[39m\u001b[38;5;28;01mTrue\u001b[39;00m)\n",
            "\u001b[1;31mModuleNotFoundError\u001b[0m: No module named 'bs4'"
          ]
        }
      ],
      "source": [
        "import os, pathlib, datetime as dt\n",
        "import requests\n",
        "import pandas as pd\n",
        "from bs4 import BeautifulSoup\n",
        "from dotenv import load_dotenv\n",
        "\n",
        "RAW = pathlib.Path('data/raw'); RAW.mkdir(parents=True, exist_ok=True)\n",
        "load_dotenv(); print('ALPHAVANTAGE_API_KEY loaded?', bool(os.getenv('ALPHAVANTAGE_API_KEY')))"
      ]
    },
    {
      "cell_type": "markdown",
      "id": "mdGI-OANAhFN",
      "metadata": {
        "id": "mdGI-OANAhFN"
      },
      "source": [
        "## Helpers (use or modify)"
      ]
    },
    {
      "cell_type": "code",
      "execution_count": null,
      "id": "M_nZj3CLAhFN",
      "metadata": {
        "id": "M_nZj3CLAhFN"
      },
      "outputs": [],
      "source": [
        "def ts():\n",
        "    return dt.datetime.now().strftime('%Y%m%d-%H%M%S')\n",
        "\n",
        "def save_csv(df: pd.DataFrame, prefix: str, **meta):\n",
        "    mid = '_'.join([f\"{k}-{v}\" for k,v in meta.items()])\n",
        "    path = RAW / f\"{prefix}_{mid}_{ts()}.csv\"\n",
        "    df.to_csv(path, index=False)\n",
        "    print('Saved', path)\n",
        "    return path\n",
        "\n",
        "def validate(df: pd.DataFrame, required):\n",
        "    missing = [c for c in required if c not in df.columns]\n",
        "    return {'missing': missing, 'shape': df.shape, 'na_total': int(df.isna().sum().sum())}"
      ]
    },
    {
      "cell_type": "markdown",
      "id": "6t-QewH2AhFO",
      "metadata": {
        "id": "6t-QewH2AhFO"
      },
      "source": [
        "## Part 1 — API Pull (Required)\n",
        "Choose an endpoint (e.g., Alpha Vantage or use `yfinance` fallback)."
      ]
    },
    {
      "cell_type": "code",
      "execution_count": null,
      "id": "0KrLx2SFAhFP",
      "metadata": {
        "id": "0KrLx2SFAhFP"
      },
      "outputs": [],
      "source": [
        "SYMBOL = 'AAPL'\n",
        "USE_ALPHA = bool(os.getenv('ALPHAVANTAGE_API_KEY'))\n",
        "if USE_ALPHA:\n",
        "    url = 'https://www.alphavantage.co/query'\n",
        "    params = {'function':'TIME_SERIES_DAILY_ADJUSTED','symbol':SYMBOL,'outputsize':'compact','apikey':os.getenv('ALPHAVANTAGE_API_KEY')}\n",
        "    r = requests.get(url, params=params, timeout=30)\n",
        "    r.raise_for_status()\n",
        "    js = r.json()\n",
        "    key = [k for k in js if 'Time Series' in k][0]\n",
        "    df_api = pd.DataFrame(js[key]).T.reset_index().rename(columns={'index':'date','5. adjusted close':'adj_close'})[['date','adj_close']]\n",
        "    df_api['date'] = pd.to_datetime(df_api['date']); df_api['adj_close'] = pd.to_numeric(df_api['adj_close'])\n",
        "else:\n",
        "    import yfinance as yf\n",
        "    df_api = yf.download(SYMBOL, period='3mo', interval='1d').reset_index()[['Date','Adj Close']]\n",
        "    df_api.columns = ['date','adj_close']\n",
        "\n",
        "v_api = validate(df_api, ['date','adj_close']); v_api"
      ]
    },
    {
      "cell_type": "code",
      "execution_count": null,
      "id": "0DuYhdV4AhFQ",
      "metadata": {
        "id": "0DuYhdV4AhFQ"
      },
      "outputs": [],
      "source": [
        "_ = save_csv(df_api.sort_values('date'), prefix='api', source='alpha' if USE_ALPHA else 'yfinance', symbol=SYMBOL)"
      ]
    },
    {
      "cell_type": "markdown",
      "id": "O-8sw1zOAhFQ",
      "metadata": {
        "id": "O-8sw1zOAhFQ"
      },
      "source": [
        "## Part 2 — Scrape a Public Table (Required)\n",
        "Replace `SCRAPE_URL` with a permitted page containing a simple table."
      ]
    },
    {
      "cell_type": "code",
      "execution_count": null,
      "id": "79HMsIqwAhFQ",
      "metadata": {
        "id": "79HMsIqwAhFQ"
      },
      "outputs": [],
      "source": [
        "SCRAPE_URL = 'https://www.marketwatch.com/investing/index/djia'  # TODO: replace with permitted page\n",
        "headers = {'User-Agent':'AFE-Homework/1.0'}\n",
        "try:\n",
        "    resp = requests.get(SCRAPE_URL, headers=headers, timeout=30); resp.raise_for_status()\n",
        "    soup = BeautifulSoup(resp.text, 'html.parser')\n",
        "    rows = [[c.get_text(strip=True) for c in tr.find_all(['th','td'])] for tr in soup.find_all('tr')]\n",
        "    header, *data = [r for r in rows if r]\n",
        "    df_scrape = pd.DataFrame(data, columns=header)\n",
        "except Exception as e:\n",
        "    print('Scrape failed, using inline demo table:', e)\n",
        "    html = '<table><tr><th>Ticker</th><th>Price</th></tr><tr><td>AAA</td><td>101.2</td></tr></table>'\n",
        "    soup = BeautifulSoup(html, 'html.parser')\n",
        "    rows = [[c.get_text(strip=True) for c in tr.find_all(['th','td'])] for tr in soup.find_all('tr')]\n",
        "    header, *data = [r for r in rows if r]\n",
        "    df_scrape = pd.DataFrame(data, columns=header)\n",
        "\n",
        "if 'Price' in df_scrape.columns:\n",
        "    df_scrape['Price'] = pd.to_numeric(df_scrape['Price'], errors='coerce')\n",
        "v_scrape = validate(df_scrape, list(df_scrape.columns)); v_scrape"
      ]
    },
    {
      "cell_type": "code",
      "execution_count": null,
      "id": "DbMJB2BAAhFR",
      "metadata": {
        "id": "DbMJB2BAAhFR"
      },
      "outputs": [],
      "source": [
        "_ = save_csv(df_scrape, prefix='scrape', site='example', table='markets')"
      ]
    },
    {
      "cell_type": "markdown",
      "id": "foZU3uA8AhFR",
      "metadata": {
        "id": "foZU3uA8AhFR"
      },
      "source": [
        "## Documentation\n",
        "- API Source: (URL/endpoint/params)\n",
        "- Scrape Source: (URL/table description)\n",
        "- Assumptions & risks: (rate limits, selector fragility, schema changes)\n",
        "- Confirm `.env` is not committed."
      ]
    }
  ],
  "metadata": {
    "colab": {
      "provenance": []
    },
    "kernelspec": {
      "display_name": "Python 3",
      "language": "python",
      "name": "python3"
    },
    "language_info": {
      "codemirror_mode": {
        "name": "ipython",
        "version": 3
      },
      "file_extension": ".py",
      "mimetype": "text/x-python",
      "name": "python",
      "nbconvert_exporter": "python",
      "pygments_lexer": "ipython3",
      "version": "3.11.9"
    }
  },
  "nbformat": 4,
  "nbformat_minor": 5
}
