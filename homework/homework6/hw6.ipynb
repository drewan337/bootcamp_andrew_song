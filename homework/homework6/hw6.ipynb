{
 "cells": [
  {
   "cell_type": "markdown",
   "metadata": {},
   "source": [
    "# Homework Starter — Stage 6: Data Preprocessing\n",
    "Use this notebook to apply your cleaning functions and save processed data."
   ]
  },
  {
   "cell_type": "code",
   "execution_count": 5,
   "metadata": {},
   "outputs": [],
   "source": [
    "import pandas as pd\n",
    "from src import cleaning"
   ]
  },
  {
   "cell_type": "markdown",
   "metadata": {},
   "source": [
    "## Load Raw Dataset"
   ]
  },
  {
   "cell_type": "code",
   "execution_count": 6,
   "metadata": {},
   "outputs": [
    {
     "data": {
      "text/html": [
       "<div>\n",
       "<style scoped>\n",
       "    .dataframe tbody tr th:only-of-type {\n",
       "        vertical-align: middle;\n",
       "    }\n",
       "\n",
       "    .dataframe tbody tr th {\n",
       "        vertical-align: top;\n",
       "    }\n",
       "\n",
       "    .dataframe thead th {\n",
       "        text-align: right;\n",
       "    }\n",
       "</style>\n",
       "<table border=\"1\" class=\"dataframe\">\n",
       "  <thead>\n",
       "    <tr style=\"text-align: right;\">\n",
       "      <th></th>\n",
       "      <th>date</th>\n",
       "      <th>ticker</th>\n",
       "      <th>price</th>\n",
       "    </tr>\n",
       "  </thead>\n",
       "  <tbody>\n",
       "    <tr>\n",
       "      <th>0</th>\n",
       "      <td>2024-01-01</td>\n",
       "      <td>TSLA</td>\n",
       "      <td>150.005409</td>\n",
       "    </tr>\n",
       "    <tr>\n",
       "      <th>1</th>\n",
       "      <td>2024-01-02</td>\n",
       "      <td>TSLA</td>\n",
       "      <td>149.875606</td>\n",
       "    </tr>\n",
       "    <tr>\n",
       "      <th>2</th>\n",
       "      <td>2024-01-03</td>\n",
       "      <td>TSLA</td>\n",
       "      <td>150.137978</td>\n",
       "    </tr>\n",
       "    <tr>\n",
       "      <th>3</th>\n",
       "      <td>2024-01-04</td>\n",
       "      <td>TSLA</td>\n",
       "      <td>150.196309</td>\n",
       "    </tr>\n",
       "    <tr>\n",
       "      <th>4</th>\n",
       "      <td>2024-01-05</td>\n",
       "      <td>TSLA</td>\n",
       "      <td>149.776274</td>\n",
       "    </tr>\n",
       "  </tbody>\n",
       "</table>\n",
       "</div>"
      ],
      "text/plain": [
       "         date ticker       price\n",
       "0  2024-01-01   TSLA  150.005409\n",
       "1  2024-01-02   TSLA  149.875606\n",
       "2  2024-01-03   TSLA  150.137978\n",
       "3  2024-01-04   TSLA  150.196309\n",
       "4  2024-01-05   TSLA  149.776274"
      ]
     },
     "execution_count": 6,
     "metadata": {},
     "output_type": "execute_result"
    }
   ],
   "source": [
    "df = pd.read_csv('C:/Users/박서아/bootcamp_andrew_song/homework/homework6/data/raw/sample_data.csv')\n",
    "df.head()"
   ]
  },
  {
   "cell_type": "markdown",
   "metadata": {},
   "source": [
    "## Apply Cleaning Functions"
   ]
  },
  {
   "cell_type": "code",
   "execution_count": 7,
   "metadata": {},
   "outputs": [
    {
     "name": "stdout",
     "output_type": "stream",
     "text": [
      "\n",
      "Shape after dropping high-missing columns: (20, 3)\n",
      "Missing values after median fill:\n",
      "date      0\n",
      "ticker    0\n",
      "price     0\n",
      "dtype: int64\n",
      "\n",
      "Data types after cleaning:\n",
      "date       object\n",
      "ticker     object\n",
      "price     float64\n",
      "dtype: object\n",
      "\n",
      "First 5 rows of cleaned data:\n",
      "         date ticker     price\n",
      "0  2024-01-01   TSLA -0.926125\n",
      "1  2024-01-02   TSLA -1.017444\n",
      "2  2024-01-03   TSLA -0.832860\n",
      "3  2024-01-04   TSLA -0.791823\n",
      "4  2024-01-05   TSLA -1.087327\n"
     ]
    }
   ],
   "source": [
    "# TODO: Apply your functions here\n",
    "df = cleaning.drop_missing(df, threshold=0.5)\n",
    "print(f\"\\nShape after dropping high-missing columns: {df.shape}\")\n",
    "\n",
    "# Step 2: Fill missing values with median for numeric columns\n",
    "df = cleaning.fill_missing_median(df, ['price'])\n",
    "print(\"Missing values after median fill:\")\n",
    "print(df.isnull().sum())\n",
    "\n",
    "# Step 3: Normalize the price data for better ML performance\n",
    "df = cleaning.normalize_data(df, ['price'])\n",
    "\n",
    "print(\"\\nData types after cleaning:\")\n",
    "print(df.dtypes)\n",
    "print(\"\\nFirst 5 rows of cleaned data:\")\n",
    "print(df.head())"
   ]
  },
  {
   "cell_type": "markdown",
   "metadata": {},
   "source": [
    "## Save Cleaned Dataset"
   ]
  },
  {
   "cell_type": "code",
   "execution_count": 8,
   "metadata": {},
   "outputs": [],
   "source": [
    "df.to_csv('C:/Users/박서아/bootcamp_andrew_song/homework/homework6/data/processed/sample_data_cleaned.csv', index=False)"
   ]
  }
 ],
 "metadata": {
  "kernelspec": {
   "display_name": "fe-course",
   "language": "python",
   "name": "python3"
  },
  "language_info": {
   "codemirror_mode": {
    "name": "ipython",
    "version": 3
   },
   "file_extension": ".py",
   "mimetype": "text/x-python",
   "name": "python",
   "nbconvert_exporter": "python",
   "pygments_lexer": "ipython3",
   "version": "3.11.10"
  }
 },
 "nbformat": 4,
 "nbformat_minor": 2
}
