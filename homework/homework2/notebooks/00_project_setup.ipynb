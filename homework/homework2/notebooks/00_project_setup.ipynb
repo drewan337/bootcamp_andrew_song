{
 "cells": [
  {
   "cell_type": "code",
   "execution_count": null,
   "id": "310c6508",
   "metadata": {},
   "outputs": [],
   "source": [
    "# Markdown: \"# Environment & Config Check\"\n",
    "\n",
    "from src.config import load_env, get_key\n",
    "from dotenv import load_dotenv\n",
    "import numpy as np\n",
    "\n",
    "load_env()\n",
    "print(\"API_KEY present:\", bool(get_key()))  # Should print \"True\"\n",
    "\n",
    "# NumPy demo\n",
    "arr = np.array([1, 2, 3])\n",
    "print(\"Array sum:\", arr.sum())"
   ]
  }
 ],
 "metadata": {
  "language_info": {
   "name": "python"
  }
 },
 "nbformat": 4,
 "nbformat_minor": 5
}
